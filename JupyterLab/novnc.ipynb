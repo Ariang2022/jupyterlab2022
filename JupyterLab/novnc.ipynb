{
  "nbformat": 4,
  "nbformat_minor": 0,
  "metadata": {
    "colab": {
      "name": "vnc-ngrok.ipynb",
      "provenance": []
    },
    "kernelspec": {
      "name": "python3",
      "display_name": "Python 3"
    },
    "language_info": {
      "name": "python"
    }
  },
  "cells": [
    {
      "cell_type": "code",
      "metadata": {
        "id": "nJ2tf6tGs9J-"
      },
      "source": [
        "%env NGROK_TOKEN=YOUR_NGROK_TOKEN"
      ],
      "execution_count": null,
      "outputs": []
    },
    {
      "cell_type": "code",
      "metadata": {
        "id": "wFFuwYY3f7Yg"
      },
      "source": [
        "%%bash\n",
        "export USER=root\n",
        "umask 077\n",
        "mkdir -p ~/.vnc\n",
        "echo $VNC_PASSWD | vncpasswd -f > ~/.vnc/passwd\n",
        "vncserver -kill :1 | vncserver -geometry $VNC_RESOLUTION"
      ],
      "execution_count": null,
      "outputs": []
    },
    {
      "cell_type": "code",
      "metadata": {
        "id": "XyoNwzCztK58"
      },
      "source": [
        "!tmux new-session -d ngrok http 8081 --authtoken $NGROK_TOKEN --region ap --bind-tls false"
      ],
      "execution_count": null,
      "outputs": []
    },
    {
      "cell_type": "code",
      "metadata": {
        "id": "cJKh1uZtfw88"
      },
      "source": [
        "!tmux new-session -d /usr/share/novnc/utils/launch.sh --listen 8081 --vnc localhost:5901"
      ],
      "execution_count": null,
      "outputs": []
    },
    {
      "cell_type": "code",
      "metadata": {
        "id": "s1BMSznSsv_e"
      },
      "source": [
        "!curl -s localhost:4040/api/tunnels/command_line | jq -r '.public_url'"
      ],
      "execution_count": null,
      "outputs": []
    }
  ]
}