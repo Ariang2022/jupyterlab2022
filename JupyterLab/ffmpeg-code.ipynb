{
 "cells": [
  {
   "cell_type": "code",
   "execution_count": null,
   "id": "8c07c896",
   "metadata": {},
   "outputs": [],
   "source": [
    "!ffmpeg -i /Downloads/input.mp4 -c:v libx264 -s 1920x1080  -c:a aac -b:a 192k -b:v 5850k -maxrate 5850k -bufsize 11700k -preset:v \"superfast\" -profile:v \"main\" -movflags +faststart output-name.mp4"
   ]
  }
 ],
 "metadata": {
  "kernelspec": {
   "display_name": "Python 3",
   "language": "python",
   "name": "python3"
  },
  "language_info": {
   "codemirror_mode": {
    "name": "ipython",
    "version": 3
   },
   "file_extension": ".py",
   "mimetype": "text/x-python",
   "name": "python",
   "nbconvert_exporter": "python",
   "pygments_lexer": "ipython3",
   "version": "3.9.7"
  }
 },
 "nbformat": 4,
 "nbformat_minor": 5
}
